{
  "nbformat": 4,
  "nbformat_minor": 0,
  "metadata": {
    "colab": {
      "provenance": [],
      "include_colab_link": true
    },
    "kernelspec": {
      "name": "python3",
      "display_name": "Python 3"
    },
    "language_info": {
      "name": "python"
    }
  },
  "cells": [
    {
      "cell_type": "markdown",
      "metadata": {
        "id": "view-in-github",
        "colab_type": "text"
      },
      "source": [
        "<a href=\"https://colab.research.google.com/github/ElianaMesa/Curso_lenguajes-_programacion/blob/main/Copia_de_Taller_practico_de_variables.ipynb\" target=\"_parent\"><img src=\"https://colab.research.google.com/assets/colab-badge.svg\" alt=\"Open In Colab\"/></a>"
      ]
    },
    {
      "cell_type": "markdown",
      "source": [
        "### Taller Práctico: Variables en Python para Ingeniería Financiera\n",
        "\n",
        "# Introducción\n",
        "# En este taller, aprenderás a utilizar diferentes tipos de variables en Python\n",
        "# a través de ejercicios prácticos aplicados a escenarios financieros."
      ],
      "metadata": {
        "id": "Bo6nh2CyULcw"
      }
    },
    {
      "cell_type": "code",
      "source": [
        "# Ejercicio 1: Variables tipo string\n",
        "# Contexto: Un banco necesita almacenar el nombre de sus clientes. almacena 5 clientes en 5 variables diferentes\n"
      ],
      "metadata": {
        "id": "5jA7bjhcXcWI"
      },
      "execution_count": null,
      "outputs": []
    },
    {
      "cell_type": "markdown",
      "source": [
        "Resultado:"
      ],
      "metadata": {
        "id": "GmV9EQUzXuWv"
      }
    },
    {
      "cell_type": "code",
      "source": [
        "#Ingrese codigo aquí\n",
        "client1 = \"Alexandra Valencia\"\n",
        "client2 = \"Salome Gomez\"\n",
        "client3 = \"Samuel Gomez\"\n",
        "client4 = \"Sara Restrepo\"\n",
        "client5 = \"Eliana Mesa\"\n",
        "print(client1)\n",
        "print(client2)\n",
        "print(client3)\n",
        "print(client4)\n",
        "print(client5)"
      ],
      "metadata": {
        "id": "jA7Qhj2tXwBN",
        "outputId": "e20c04b4-46e1-4225-d3d9-47aa76f30196",
        "colab": {
          "base_uri": "https://localhost:8080/"
        }
      },
      "execution_count": null,
      "outputs": [
        {
          "output_type": "stream",
          "name": "stdout",
          "text": [
            "Alexandra Valencia\n",
            "Salome Gomez\n",
            "Samuel Gomez\n",
            "Sara Restrepo\n",
            "Eliana Mesa\n"
          ]
        }
      ]
    },
    {
      "cell_type": "code",
      "source": [
        "# Ejercicio 2: Concatenación de Strings\n",
        "# Contexto: Al generar reportes, el banco quiere mostrar el tipo de cuenta junto al nombre del cliente. realiza el ejercicio para las 5 variables\n"
      ],
      "metadata": {
        "id": "Sx7DMAgIX2xG"
      },
      "execution_count": null,
      "outputs": []
    },
    {
      "cell_type": "markdown",
      "source": [
        "Resultado"
      ],
      "metadata": {
        "id": "MgijW_JIX8Lu"
      }
    },
    {
      "cell_type": "code",
      "source": [
        "# Ingresa código aqui\n",
        "cta1 = \"Ahorro\"\n",
        "cta2 = \"corriente\"\n",
        "cta3 = \"Ahorro a la mano\"\n",
        "cta4 = \"No tiene cta\"\n",
        "print(client1, cta1)\n",
        "print(client2,cta4)\n",
        "print(client3,cta4)\n",
        "print(client4,cta3)\n",
        "print(client5,cta3)\n"
      ],
      "metadata": {
        "id": "HjTub7W1X9c8",
        "outputId": "2de44cce-9c27-44a5-c033-9f94588318cd",
        "colab": {
          "base_uri": "https://localhost:8080/"
        }
      },
      "execution_count": null,
      "outputs": [
        {
          "output_type": "stream",
          "name": "stdout",
          "text": [
            "Alexandra Valencia, Ahorro\n",
            "Salome Gomez No tiene cta\n",
            "Samuel Gomez No tiene cta\n",
            "Sara Restrepo Ahorro a la mano\n",
            "Eliana Mesa Ahorro a la mano\n"
          ]
        }
      ]
    },
    {
      "cell_type": "code",
      "source": [
        "# Ejercicio 4: Formateo de Variables\n",
        "# Contexto: Un banco necesita mostrar el saldo de un cliente con formato adecuado.\n"
      ],
      "metadata": {
        "id": "BC_aRDtOYKrb"
      },
      "execution_count": null,
      "outputs": []
    },
    {
      "cell_type": "markdown",
      "source": [
        "Resultado"
      ],
      "metadata": {
        "id": "swsBPuJ3YSej"
      }
    },
    {
      "cell_type": "code",
      "source": [
        "#Ingrese el código aquí\n",
        "\n",
        "saldo1 = \"0 a 1.000.000\"\n",
        "saldo2 = \"1.000.001 a 2.000.000\"\n",
        "saldo3 = \"más de 2.000.001\"\n",
        "mensaje1 = \"El cliente {}, tiene un tipo de cta ({}) con un saldo {}\"\n",
        "\n",
        "print(mensaje1.format(client1, cta1, saldo3))\n",
        "print(mensaje1.format(client2, cta4, saldo1))\n",
        "print(mensaje1.format(client3, cta4, saldo1))\n",
        "print(mensaje1.format(client4, cta3, saldo2))\n",
        "print(mensaje1.format(client5, cta2, saldo2))"
      ],
      "metadata": {
        "id": "NPlztw_KYTzL",
        "colab": {
          "base_uri": "https://localhost:8080/",
          "height": 211
        },
        "outputId": "00e361ad-2369-4d3e-ad20-9603454eb6e0"
      },
      "execution_count": null,
      "outputs": [
        {
          "output_type": "error",
          "ename": "NameError",
          "evalue": "name 'client1' is not defined",
          "traceback": [
            "\u001b[0;31m---------------------------------------------------------------------------\u001b[0m",
            "\u001b[0;31mNameError\u001b[0m                                 Traceback (most recent call last)",
            "\u001b[0;32m<ipython-input-4-d4036ca72721>\u001b[0m in \u001b[0;36m<cell line: 0>\u001b[0;34m()\u001b[0m\n\u001b[1;32m      6\u001b[0m \u001b[0mmensaje1\u001b[0m \u001b[0;34m=\u001b[0m \u001b[0;34m\"El cliente {}, tiene un tipo de cta ({}) con un saldo {}\"\u001b[0m\u001b[0;34m\u001b[0m\u001b[0;34m\u001b[0m\u001b[0m\n\u001b[1;32m      7\u001b[0m \u001b[0;34m\u001b[0m\u001b[0m\n\u001b[0;32m----> 8\u001b[0;31m \u001b[0mprint\u001b[0m\u001b[0;34m(\u001b[0m\u001b[0mmensaje1\u001b[0m\u001b[0;34m.\u001b[0m\u001b[0mformat\u001b[0m\u001b[0;34m(\u001b[0m\u001b[0mclient1\u001b[0m\u001b[0;34m,\u001b[0m \u001b[0mcta1\u001b[0m\u001b[0;34m,\u001b[0m \u001b[0msaldo3\u001b[0m\u001b[0;34m)\u001b[0m\u001b[0;34m)\u001b[0m\u001b[0;34m\u001b[0m\u001b[0;34m\u001b[0m\u001b[0m\n\u001b[0m\u001b[1;32m      9\u001b[0m \u001b[0mprint\u001b[0m\u001b[0;34m(\u001b[0m\u001b[0mmensaje1\u001b[0m\u001b[0;34m.\u001b[0m\u001b[0mformat\u001b[0m\u001b[0;34m(\u001b[0m\u001b[0mclient2\u001b[0m\u001b[0;34m,\u001b[0m \u001b[0mcta4\u001b[0m\u001b[0;34m,\u001b[0m \u001b[0msaldo1\u001b[0m\u001b[0;34m)\u001b[0m\u001b[0;34m)\u001b[0m\u001b[0;34m\u001b[0m\u001b[0;34m\u001b[0m\u001b[0m\n\u001b[1;32m     10\u001b[0m \u001b[0mprint\u001b[0m\u001b[0;34m(\u001b[0m\u001b[0mmensaje1\u001b[0m\u001b[0;34m.\u001b[0m\u001b[0mformat\u001b[0m\u001b[0;34m(\u001b[0m\u001b[0mclient3\u001b[0m\u001b[0;34m,\u001b[0m \u001b[0mcta4\u001b[0m\u001b[0;34m,\u001b[0m \u001b[0msaldo1\u001b[0m\u001b[0;34m)\u001b[0m\u001b[0;34m)\u001b[0m\u001b[0;34m\u001b[0m\u001b[0;34m\u001b[0m\u001b[0m\n",
            "\u001b[0;31mNameError\u001b[0m: name 'client1' is not defined"
          ]
        }
      ]
    },
    {
      "cell_type": "code",
      "source": [
        "# Ejercicio 5: Entrada de Datos\n",
        "# Contexto: Un cliente ingresa su número de identificación para consultar su estado de cuenta. crea para cada cliente una variable de identificacion\n",
        "id_cliente = input(\"Ingrese su número de identificación: \")\n",
        "print(\"ID registrado:\", id_cliente)"
      ],
      "metadata": {
        "id": "I7yQTuYqYcIJ"
      },
      "execution_count": null,
      "outputs": []
    },
    {
      "cell_type": "markdown",
      "source": [
        "Resultado"
      ],
      "metadata": {
        "id": "7vzKHerGYgpt"
      }
    },
    {
      "cell_type": "code",
      "source": [
        "#inserte código aqui\n",
        "id_client1 = input(\"ingrese su numero de cedula\")\n",
        "print(client1,\"su cedula registrada es\", id_client1)\n",
        "\n",
        "\n",
        "\n"
      ],
      "metadata": {
        "id": "puoOr2v2Yhz5"
      },
      "execution_count": null,
      "outputs": []
    },
    {
      "cell_type": "code",
      "source": [
        "# Ejercicio 6: Variables Booleanas\n",
        "# Contexto: Validar si un cliente tiene derecho a un préstamo. crea tres ejercicios con variables booleanas\n",
        "ingresos_mensuales = 3000\n",
        "historial_crediticio = True\n",
        "es_aprobado = ingresos_mensuales > 2500 and historial_crediticio\n",
        "print(\"¿El cliente es aprobado para el préstamo?:\", es_aprobado)"
      ],
      "metadata": {
        "id": "_zpACyy_YzZ4"
      },
      "execution_count": null,
      "outputs": []
    }
  ]
}