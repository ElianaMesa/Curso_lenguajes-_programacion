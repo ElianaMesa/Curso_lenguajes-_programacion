{
  "nbformat": 4,
  "nbformat_minor": 0,
  "metadata": {
    "colab": {
      "provenance": [],
      "authorship_tag": "ABX9TyOfGN3ZVf+D2+EcizCUAKKr",
      "include_colab_link": true
    },
    "kernelspec": {
      "name": "python3",
      "display_name": "Python 3"
    },
    "language_info": {
      "name": "python"
    }
  },
  "cells": [
    {
      "cell_type": "markdown",
      "metadata": {
        "id": "view-in-github",
        "colab_type": "text"
      },
      "source": [
        "<a href=\"https://colab.research.google.com/github/ElianaMesa/Curso_lenguajes-_programacion/blob/main/Untitled2.ipynb\" target=\"_parent\"><img src=\"https://colab.research.google.com/assets/colab-badge.svg\" alt=\"Open In Colab\"/></a>"
      ]
    },
    {
      "cell_type": "markdown",
      "source": [
        "#**VALOR PRESENTE NETO VPN**\n",
        "## El VPN es una medida financiera que te permitge evaluar la viabilidad de un proyecto, calculando la diferencia entre el valor valor presente de los flujos de caja futuros y la inveresión inicial. Si el VPN es positivo el proyecto es rentable; si es negativo no lo es.\n",
        "\n",
        "###*Fórmula VPN*\n",
        "$$VPN = \\sum_{t=0}^{n} \\frac{C_t}{(1+r)^t} - C_0$$\n",
        "\n",
        "###Donde:\n",
        "\n",
        "- $F_{\\text{t}}$Ft es el flujo de caja en el periodo tt.\n",
        "- rr es la tasa de descuento.\n",
        "- $C_{\\text{0}}$C0 es la inversión inicial.\n",
        "\n",
        "\n"
      ],
      "metadata": {
        "id": "ETteVK4pyAPz"
      }
    },
    {
      "cell_type": "markdown",
      "source": [
        "#**Proyecto**\n",
        "#Una empresa está considerando un proyecto con una inversión inicial de 10,000 y espera recibir flujos de caja de 3,000 en cada uno de los próximos tres años. La tasa de descuento es del 5%."
      ],
      "metadata": {
        "id": "8Ar8RqxD0wCB"
      }
    },
    {
      "cell_type": "code",
      "source": [
        "#información para cálcular la inversión\n",
        "inversion_inicial = 10000\n",
        "flujo_ano_1 = 3000\n",
        "flujo_ano_2 = 3000\n",
        "flujo_ano_3 = 3000\n",
        "tasa_descuento = 0.05\n",
        "print(inversion_inicial)\n",
        "print(flujo_ano_1)\n",
        "print(flujo_ano_2)\n",
        "print(flujo_ano_3)\n",
        "print(tasa_descuento)\n"
      ],
      "metadata": {
        "colab": {
          "base_uri": "https://localhost:8080/"
        },
        "id": "cRh39AJq1MAd",
        "outputId": "c9b23812-adc4-4ec1-c934-79c1f86acaae"
      },
      "execution_count": 20,
      "outputs": [
        {
          "output_type": "stream",
          "name": "stdout",
          "text": [
            "10000\n",
            "3000\n",
            "3000\n",
            "3000\n",
            "0.05\n"
          ]
        }
      ]
    },
    {
      "cell_type": "code",
      "source": [
        "#calculo del proyecto\n",
        "\n",
        "vpn = (flujo_ano_1/(1+tasa_descuento)**1)+  (flujo_ano_2/(1+tasa_descuento)**2)+(flujo_ano_3/(1+tasa_descuento)**3)-inversion_inicial\n",
        "print(\"El Valor Presente neto (VPN) es:\", vpn)\n"
      ],
      "metadata": {
        "colab": {
          "base_uri": "https://localhost:8080/"
        },
        "id": "yIXfIlNd29-o",
        "outputId": "9147681f-7823-405d-d4ed-f2850d2643b8"
      },
      "execution_count": 21,
      "outputs": [
        {
          "output_type": "stream",
          "name": "stdout",
          "text": [
            "El Valor Presente neto (VPN) es: -1830.2559118885656\n"
          ]
        }
      ]
    },
    {
      "cell_type": "code",
      "source": [
        "#Interpretación del resultado\n",
        "if vpn > 0:\n",
        "  print(\"El proyecto es viable, ya que el VPN es positivo.\")\n",
        "\n",
        "else:\n",
        "  print(\"El proyecto no es viable, ya que el VPN es negativo\")"
      ],
      "metadata": {
        "colab": {
          "base_uri": "https://localhost:8080/"
        },
        "id": "CSmGNHy2ABeH",
        "outputId": "0789ac0e-2cce-49ea-9aad-b93e5505fe3d"
      },
      "execution_count": 22,
      "outputs": [
        {
          "output_type": "stream",
          "name": "stdout",
          "text": [
            "El proyecto no es viable, ya que el VPN es negativo\n"
          ]
        }
      ]
    }
  ]
}